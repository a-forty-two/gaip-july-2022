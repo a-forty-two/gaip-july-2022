{
  "nbformat": 4,
  "nbformat_minor": 0,
  "metadata": {
    "colab": {
      "name": "Untitled43.ipynb",
      "provenance": [],
      "collapsed_sections": [],
      "authorship_tag": "ABX9TyNwh5j4oWIDGH/s9hhpf/tk",
      "include_colab_link": true
    },
    "kernelspec": {
      "name": "python3",
      "display_name": "Python 3"
    },
    "language_info": {
      "name": "python"
    }
  },
  "cells": [
    {
      "cell_type": "markdown",
      "metadata": {
        "id": "view-in-github",
        "colab_type": "text"
      },
      "source": [
        "<a href=\"https://colab.research.google.com/github/a-forty-two/gaip-july-2022/blob/main/CV_model_comparison.ipynb\" target=\"_parent\"><img src=\"https://colab.research.google.com/assets/colab-badge.svg\" alt=\"Open In Colab\"/></a>"
      ]
    },
    {
      "cell_type": "code",
      "execution_count": 54,
      "metadata": {
        "id": "IvlXds_mVl14"
      },
      "outputs": [],
      "source": [
        "from tensorflow import keras\n",
        "import tensorflow as tf"
      ]
    },
    {
      "cell_type": "code",
      "source": [
        "datasets = keras.datasets"
      ],
      "metadata": {
        "id": "jOc-6F8GWFXw"
      },
      "execution_count": 55,
      "outputs": []
    },
    {
      "cell_type": "code",
      "source": [
        "datasets.__dict__"
      ],
      "metadata": {
        "colab": {
          "base_uri": "https://localhost:8080/"
        },
        "id": "8qzxPa14WJH6",
        "outputId": "8b9f87c8-e9d6-4986-95b0-8c0818088056"
      },
      "execution_count": 56,
      "outputs": [
        {
          "output_type": "execute_result",
          "data": {
            "text/plain": [
              "{'__builtins__': {'ArithmeticError': ArithmeticError,\n",
              "  'AssertionError': AssertionError,\n",
              "  'AttributeError': AttributeError,\n",
              "  'BaseException': BaseException,\n",
              "  'BlockingIOError': BlockingIOError,\n",
              "  'BrokenPipeError': BrokenPipeError,\n",
              "  'BufferError': BufferError,\n",
              "  'BytesWarning': BytesWarning,\n",
              "  'ChildProcessError': ChildProcessError,\n",
              "  'ConnectionAbortedError': ConnectionAbortedError,\n",
              "  'ConnectionError': ConnectionError,\n",
              "  'ConnectionRefusedError': ConnectionRefusedError,\n",
              "  'ConnectionResetError': ConnectionResetError,\n",
              "  'DeprecationWarning': DeprecationWarning,\n",
              "  'EOFError': EOFError,\n",
              "  'Ellipsis': Ellipsis,\n",
              "  'EnvironmentError': OSError,\n",
              "  'Exception': Exception,\n",
              "  'False': False,\n",
              "  'FileExistsError': FileExistsError,\n",
              "  'FileNotFoundError': FileNotFoundError,\n",
              "  'FloatingPointError': FloatingPointError,\n",
              "  'FutureWarning': FutureWarning,\n",
              "  'GeneratorExit': GeneratorExit,\n",
              "  'IOError': OSError,\n",
              "  'ImportError': ImportError,\n",
              "  'ImportWarning': ImportWarning,\n",
              "  'IndentationError': IndentationError,\n",
              "  'IndexError': IndexError,\n",
              "  'InterruptedError': InterruptedError,\n",
              "  'IsADirectoryError': IsADirectoryError,\n",
              "  'KeyError': KeyError,\n",
              "  'KeyboardInterrupt': KeyboardInterrupt,\n",
              "  'LookupError': LookupError,\n",
              "  'MemoryError': MemoryError,\n",
              "  'ModuleNotFoundError': ModuleNotFoundError,\n",
              "  'NameError': NameError,\n",
              "  'None': None,\n",
              "  'NotADirectoryError': NotADirectoryError,\n",
              "  'NotImplemented': NotImplemented,\n",
              "  'NotImplementedError': NotImplementedError,\n",
              "  'OSError': OSError,\n",
              "  'OverflowError': OverflowError,\n",
              "  'PendingDeprecationWarning': PendingDeprecationWarning,\n",
              "  'PermissionError': PermissionError,\n",
              "  'ProcessLookupError': ProcessLookupError,\n",
              "  'RecursionError': RecursionError,\n",
              "  'ReferenceError': ReferenceError,\n",
              "  'ResourceWarning': ResourceWarning,\n",
              "  'RuntimeError': RuntimeError,\n",
              "  'RuntimeWarning': RuntimeWarning,\n",
              "  'StopAsyncIteration': StopAsyncIteration,\n",
              "  'StopIteration': StopIteration,\n",
              "  'SyntaxError': SyntaxError,\n",
              "  'SyntaxWarning': SyntaxWarning,\n",
              "  'SystemError': SystemError,\n",
              "  'SystemExit': SystemExit,\n",
              "  'TabError': TabError,\n",
              "  'TimeoutError': TimeoutError,\n",
              "  'True': True,\n",
              "  'TypeError': TypeError,\n",
              "  'UnboundLocalError': UnboundLocalError,\n",
              "  'UnicodeDecodeError': UnicodeDecodeError,\n",
              "  'UnicodeEncodeError': UnicodeEncodeError,\n",
              "  'UnicodeError': UnicodeError,\n",
              "  'UnicodeTranslateError': UnicodeTranslateError,\n",
              "  'UnicodeWarning': UnicodeWarning,\n",
              "  'UserWarning': UserWarning,\n",
              "  'ValueError': ValueError,\n",
              "  'Warning': Warning,\n",
              "  'ZeroDivisionError': ZeroDivisionError,\n",
              "  '__IPYTHON__': True,\n",
              "  '__build_class__': <function __build_class__>,\n",
              "  '__debug__': True,\n",
              "  '__doc__': \"Built-in functions, exceptions, and other objects.\\n\\nNoteworthy: None is the `nil' object; Ellipsis represents `...' in slices.\",\n",
              "  '__import__': <function __import__>,\n",
              "  '__loader__': _frozen_importlib.BuiltinImporter,\n",
              "  '__name__': 'builtins',\n",
              "  '__package__': '',\n",
              "  '__pybind11_internals_v3_gcc_libstdcpp_cxxabi1002__': <capsule object NULL at 0x7ff0bd08b6f0>,\n",
              "  '__pybind11_internals_v4_gcc_libstdcpp_cxxabi1011__': <capsule object NULL at 0x7ff109b723f0>,\n",
              "  '__pybind11_internals_v4_gcc_libstdcpp_cxxabi1013__': <capsule object NULL at 0x7ff0ac6b87b0>,\n",
              "  '__spec__': ModuleSpec(name='builtins', loader=<class '_frozen_importlib.BuiltinImporter'>),\n",
              "  'abs': <function abs>,\n",
              "  'all': <function all>,\n",
              "  'any': <function any>,\n",
              "  'ascii': <function ascii>,\n",
              "  'bin': <function bin>,\n",
              "  'bool': bool,\n",
              "  'breakpoint': <function breakpoint>,\n",
              "  'bytearray': bytearray,\n",
              "  'bytes': bytes,\n",
              "  'callable': <function callable>,\n",
              "  'chr': <function chr>,\n",
              "  'classmethod': classmethod,\n",
              "  'compile': <function compile>,\n",
              "  'complex': complex,\n",
              "  'copyright': Copyright (c) 2001-2022 Python Software Foundation.\n",
              "  All Rights Reserved.\n",
              "  \n",
              "  Copyright (c) 2000 BeOpen.com.\n",
              "  All Rights Reserved.\n",
              "  \n",
              "  Copyright (c) 1995-2001 Corporation for National Research Initiatives.\n",
              "  All Rights Reserved.\n",
              "  \n",
              "  Copyright (c) 1991-1995 Stichting Mathematisch Centrum, Amsterdam.\n",
              "  All Rights Reserved.,\n",
              "  'credits':     Thanks to CWI, CNRI, BeOpen.com, Zope Corporation and a cast of thousands\n",
              "      for supporting Python development.  See www.python.org for more information.,\n",
              "  'delattr': <function delattr>,\n",
              "  'dict': dict,\n",
              "  'dir': <function dir>,\n",
              "  'display': <function IPython.core.display.display>,\n",
              "  'divmod': <function divmod>,\n",
              "  'dreload': <function IPython.lib.deepreload._dreload>,\n",
              "  'enumerate': enumerate,\n",
              "  'eval': <function eval>,\n",
              "  'exec': <function exec>,\n",
              "  'execfile': <function _pydev_imps._pydev_execfile.execfile>,\n",
              "  'filter': filter,\n",
              "  'float': float,\n",
              "  'format': <function format>,\n",
              "  'frozenset': frozenset,\n",
              "  'get_ipython': <bound method InteractiveShell.get_ipython of <google.colab._shell.Shell object at 0x7ff11ac94d50>>,\n",
              "  'getattr': <function getattr>,\n",
              "  'globals': <function globals>,\n",
              "  'hasattr': <function hasattr>,\n",
              "  'hash': <function hash>,\n",
              "  'help': Type help() for interactive help, or help(object) for help about object.,\n",
              "  'hex': <function hex>,\n",
              "  'id': <function id>,\n",
              "  'input': <bound method Kernel.raw_input of <google.colab._kernel.Kernel object at 0x7ff11aa2de50>>,\n",
              "  'int': int,\n",
              "  'isinstance': <function isinstance>,\n",
              "  'issubclass': <function issubclass>,\n",
              "  'iter': <function iter>,\n",
              "  'len': <function len>,\n",
              "  'license': Type license() to see the full license text,\n",
              "  'list': list,\n",
              "  'locals': <function locals>,\n",
              "  'map': map,\n",
              "  'max': <function max>,\n",
              "  'memoryview': memoryview,\n",
              "  'min': <function min>,\n",
              "  'next': <function next>,\n",
              "  'object': object,\n",
              "  'oct': <function oct>,\n",
              "  'open': <function io.open>,\n",
              "  'ord': <function ord>,\n",
              "  'pow': <function pow>,\n",
              "  'print': <function print>,\n",
              "  'property': property,\n",
              "  'range': range,\n",
              "  'repr': <function repr>,\n",
              "  'reversed': reversed,\n",
              "  'round': <function round>,\n",
              "  'runfile': <function _pydev_bundle.pydev_umd.runfile>,\n",
              "  'set': set,\n",
              "  'setattr': <function setattr>,\n",
              "  'slice': slice,\n",
              "  'sorted': <function sorted>,\n",
              "  'staticmethod': staticmethod,\n",
              "  'str': str,\n",
              "  'sum': <function sum>,\n",
              "  'super': super,\n",
              "  'tuple': tuple,\n",
              "  'type': type,\n",
              "  'vars': <function vars>,\n",
              "  'zip': zip},\n",
              " '__cached__': '/usr/local/lib/python3.7/dist-packages/keras/api/_v2/keras/datasets/__pycache__/__init__.cpython-37.pyc',\n",
              " '__doc__': 'Public API for tf.keras.datasets namespace.\\n',\n",
              " '__file__': '/usr/local/lib/python3.7/dist-packages/keras/api/_v2/keras/datasets/__init__.py',\n",
              " '__loader__': <_frozen_importlib_external.SourceFileLoader at 0x7ff08cd156d0>,\n",
              " '__name__': 'keras.api._v2.keras.datasets',\n",
              " '__package__': 'keras.api._v2.keras.datasets',\n",
              " '__path__': ['/usr/local/lib/python3.7/dist-packages/keras/api/_v2/keras/datasets'],\n",
              " '__spec__': ModuleSpec(name='keras.api._v2.keras.datasets', loader=<_frozen_importlib_external.SourceFileLoader object at 0x7ff08cd156d0>, origin='/usr/local/lib/python3.7/dist-packages/keras/api/_v2/keras/datasets/__init__.py', submodule_search_locations=['/usr/local/lib/python3.7/dist-packages/keras/api/_v2/keras/datasets']),\n",
              " '_sys': <module 'sys' (built-in)>,\n",
              " 'boston_housing': <module 'keras.api._v2.keras.datasets.boston_housing' from '/usr/local/lib/python3.7/dist-packages/keras/api/_v2/keras/datasets/boston_housing/__init__.py'>,\n",
              " 'cifar10': <module 'keras.api._v2.keras.datasets.cifar10' from '/usr/local/lib/python3.7/dist-packages/keras/api/_v2/keras/datasets/cifar10/__init__.py'>,\n",
              " 'cifar100': <module 'keras.api._v2.keras.datasets.cifar100' from '/usr/local/lib/python3.7/dist-packages/keras/api/_v2/keras/datasets/cifar100/__init__.py'>,\n",
              " 'fashion_mnist': <module 'keras.api._v2.keras.datasets.fashion_mnist' from '/usr/local/lib/python3.7/dist-packages/keras/api/_v2/keras/datasets/fashion_mnist/__init__.py'>,\n",
              " 'imdb': <module 'keras.api._v2.keras.datasets.imdb' from '/usr/local/lib/python3.7/dist-packages/keras/api/_v2/keras/datasets/imdb/__init__.py'>,\n",
              " 'mnist': <module 'keras.api._v2.keras.datasets.mnist' from '/usr/local/lib/python3.7/dist-packages/keras/api/_v2/keras/datasets/mnist/__init__.py'>,\n",
              " 'reuters': <module 'keras.api._v2.keras.datasets.reuters' from '/usr/local/lib/python3.7/dist-packages/keras/api/_v2/keras/datasets/reuters/__init__.py'>}"
            ]
          },
          "metadata": {},
          "execution_count": 56
        }
      ]
    },
    {
      "cell_type": "code",
      "source": [
        "dir(datasets)"
      ],
      "metadata": {
        "colab": {
          "base_uri": "https://localhost:8080/"
        },
        "id": "s7YWsqxdWTGx",
        "outputId": "ae62338f-bfd8-4f65-9723-ca2ea249c10e"
      },
      "execution_count": 57,
      "outputs": [
        {
          "output_type": "execute_result",
          "data": {
            "text/plain": [
              "['__builtins__',\n",
              " '__cached__',\n",
              " '__doc__',\n",
              " '__file__',\n",
              " '__loader__',\n",
              " '__name__',\n",
              " '__package__',\n",
              " '__path__',\n",
              " '__spec__',\n",
              " '_sys',\n",
              " 'boston_housing',\n",
              " 'cifar10',\n",
              " 'cifar100',\n",
              " 'fashion_mnist',\n",
              " 'imdb',\n",
              " 'mnist',\n",
              " 'reuters']"
            ]
          },
          "metadata": {},
          "execution_count": 57
        }
      ]
    },
    {
      "cell_type": "code",
      "source": [
        "data = datasets.fashion_mnist"
      ],
      "metadata": {
        "id": "mi6edgiZWlb2"
      },
      "execution_count": 58,
      "outputs": []
    },
    {
      "cell_type": "code",
      "source": [
        "dir(data)"
      ],
      "metadata": {
        "colab": {
          "base_uri": "https://localhost:8080/"
        },
        "id": "LDGWiyBtXB3B",
        "outputId": "c4c26e14-c355-4200-e605-3440c3baafd5"
      },
      "execution_count": 59,
      "outputs": [
        {
          "output_type": "execute_result",
          "data": {
            "text/plain": [
              "['__builtins__',\n",
              " '__cached__',\n",
              " '__doc__',\n",
              " '__file__',\n",
              " '__loader__',\n",
              " '__name__',\n",
              " '__package__',\n",
              " '__path__',\n",
              " '__spec__',\n",
              " '_sys',\n",
              " 'load_data']"
            ]
          },
          "metadata": {},
          "execution_count": 59
        }
      ]
    },
    {
      "cell_type": "code",
      "source": [
        "data.__dict__"
      ],
      "metadata": {
        "colab": {
          "base_uri": "https://localhost:8080/"
        },
        "id": "pqFddpThXDyq",
        "outputId": "daf86271-ceeb-470a-cf18-d6f0d71079b3"
      },
      "execution_count": 60,
      "outputs": [
        {
          "output_type": "execute_result",
          "data": {
            "text/plain": [
              "{'__builtins__': {'ArithmeticError': ArithmeticError,\n",
              "  'AssertionError': AssertionError,\n",
              "  'AttributeError': AttributeError,\n",
              "  'BaseException': BaseException,\n",
              "  'BlockingIOError': BlockingIOError,\n",
              "  'BrokenPipeError': BrokenPipeError,\n",
              "  'BufferError': BufferError,\n",
              "  'BytesWarning': BytesWarning,\n",
              "  'ChildProcessError': ChildProcessError,\n",
              "  'ConnectionAbortedError': ConnectionAbortedError,\n",
              "  'ConnectionError': ConnectionError,\n",
              "  'ConnectionRefusedError': ConnectionRefusedError,\n",
              "  'ConnectionResetError': ConnectionResetError,\n",
              "  'DeprecationWarning': DeprecationWarning,\n",
              "  'EOFError': EOFError,\n",
              "  'Ellipsis': Ellipsis,\n",
              "  'EnvironmentError': OSError,\n",
              "  'Exception': Exception,\n",
              "  'False': False,\n",
              "  'FileExistsError': FileExistsError,\n",
              "  'FileNotFoundError': FileNotFoundError,\n",
              "  'FloatingPointError': FloatingPointError,\n",
              "  'FutureWarning': FutureWarning,\n",
              "  'GeneratorExit': GeneratorExit,\n",
              "  'IOError': OSError,\n",
              "  'ImportError': ImportError,\n",
              "  'ImportWarning': ImportWarning,\n",
              "  'IndentationError': IndentationError,\n",
              "  'IndexError': IndexError,\n",
              "  'InterruptedError': InterruptedError,\n",
              "  'IsADirectoryError': IsADirectoryError,\n",
              "  'KeyError': KeyError,\n",
              "  'KeyboardInterrupt': KeyboardInterrupt,\n",
              "  'LookupError': LookupError,\n",
              "  'MemoryError': MemoryError,\n",
              "  'ModuleNotFoundError': ModuleNotFoundError,\n",
              "  'NameError': NameError,\n",
              "  'None': None,\n",
              "  'NotADirectoryError': NotADirectoryError,\n",
              "  'NotImplemented': NotImplemented,\n",
              "  'NotImplementedError': NotImplementedError,\n",
              "  'OSError': OSError,\n",
              "  'OverflowError': OverflowError,\n",
              "  'PendingDeprecationWarning': PendingDeprecationWarning,\n",
              "  'PermissionError': PermissionError,\n",
              "  'ProcessLookupError': ProcessLookupError,\n",
              "  'RecursionError': RecursionError,\n",
              "  'ReferenceError': ReferenceError,\n",
              "  'ResourceWarning': ResourceWarning,\n",
              "  'RuntimeError': RuntimeError,\n",
              "  'RuntimeWarning': RuntimeWarning,\n",
              "  'StopAsyncIteration': StopAsyncIteration,\n",
              "  'StopIteration': StopIteration,\n",
              "  'SyntaxError': SyntaxError,\n",
              "  'SyntaxWarning': SyntaxWarning,\n",
              "  'SystemError': SystemError,\n",
              "  'SystemExit': SystemExit,\n",
              "  'TabError': TabError,\n",
              "  'TimeoutError': TimeoutError,\n",
              "  'True': True,\n",
              "  'TypeError': TypeError,\n",
              "  'UnboundLocalError': UnboundLocalError,\n",
              "  'UnicodeDecodeError': UnicodeDecodeError,\n",
              "  'UnicodeEncodeError': UnicodeEncodeError,\n",
              "  'UnicodeError': UnicodeError,\n",
              "  'UnicodeTranslateError': UnicodeTranslateError,\n",
              "  'UnicodeWarning': UnicodeWarning,\n",
              "  'UserWarning': UserWarning,\n",
              "  'ValueError': ValueError,\n",
              "  'Warning': Warning,\n",
              "  'ZeroDivisionError': ZeroDivisionError,\n",
              "  '__IPYTHON__': True,\n",
              "  '__build_class__': <function __build_class__>,\n",
              "  '__debug__': True,\n",
              "  '__doc__': \"Built-in functions, exceptions, and other objects.\\n\\nNoteworthy: None is the `nil' object; Ellipsis represents `...' in slices.\",\n",
              "  '__import__': <function __import__>,\n",
              "  '__loader__': _frozen_importlib.BuiltinImporter,\n",
              "  '__name__': 'builtins',\n",
              "  '__package__': '',\n",
              "  '__pybind11_internals_v3_gcc_libstdcpp_cxxabi1002__': <capsule object NULL at 0x7ff0bd08b6f0>,\n",
              "  '__pybind11_internals_v4_gcc_libstdcpp_cxxabi1011__': <capsule object NULL at 0x7ff109b723f0>,\n",
              "  '__pybind11_internals_v4_gcc_libstdcpp_cxxabi1013__': <capsule object NULL at 0x7ff0ac6b87b0>,\n",
              "  '__spec__': ModuleSpec(name='builtins', loader=<class '_frozen_importlib.BuiltinImporter'>),\n",
              "  'abs': <function abs>,\n",
              "  'all': <function all>,\n",
              "  'any': <function any>,\n",
              "  'ascii': <function ascii>,\n",
              "  'bin': <function bin>,\n",
              "  'bool': bool,\n",
              "  'breakpoint': <function breakpoint>,\n",
              "  'bytearray': bytearray,\n",
              "  'bytes': bytes,\n",
              "  'callable': <function callable>,\n",
              "  'chr': <function chr>,\n",
              "  'classmethod': classmethod,\n",
              "  'compile': <function compile>,\n",
              "  'complex': complex,\n",
              "  'copyright': Copyright (c) 2001-2022 Python Software Foundation.\n",
              "  All Rights Reserved.\n",
              "  \n",
              "  Copyright (c) 2000 BeOpen.com.\n",
              "  All Rights Reserved.\n",
              "  \n",
              "  Copyright (c) 1995-2001 Corporation for National Research Initiatives.\n",
              "  All Rights Reserved.\n",
              "  \n",
              "  Copyright (c) 1991-1995 Stichting Mathematisch Centrum, Amsterdam.\n",
              "  All Rights Reserved.,\n",
              "  'credits':     Thanks to CWI, CNRI, BeOpen.com, Zope Corporation and a cast of thousands\n",
              "      for supporting Python development.  See www.python.org for more information.,\n",
              "  'delattr': <function delattr>,\n",
              "  'dict': dict,\n",
              "  'dir': <function dir>,\n",
              "  'display': <function IPython.core.display.display>,\n",
              "  'divmod': <function divmod>,\n",
              "  'dreload': <function IPython.lib.deepreload._dreload>,\n",
              "  'enumerate': enumerate,\n",
              "  'eval': <function eval>,\n",
              "  'exec': <function exec>,\n",
              "  'execfile': <function _pydev_imps._pydev_execfile.execfile>,\n",
              "  'filter': filter,\n",
              "  'float': float,\n",
              "  'format': <function format>,\n",
              "  'frozenset': frozenset,\n",
              "  'get_ipython': <bound method InteractiveShell.get_ipython of <google.colab._shell.Shell object at 0x7ff11ac94d50>>,\n",
              "  'getattr': <function getattr>,\n",
              "  'globals': <function globals>,\n",
              "  'hasattr': <function hasattr>,\n",
              "  'hash': <function hash>,\n",
              "  'help': Type help() for interactive help, or help(object) for help about object.,\n",
              "  'hex': <function hex>,\n",
              "  'id': <function id>,\n",
              "  'input': <bound method Kernel.raw_input of <google.colab._kernel.Kernel object at 0x7ff11aa2de50>>,\n",
              "  'int': int,\n",
              "  'isinstance': <function isinstance>,\n",
              "  'issubclass': <function issubclass>,\n",
              "  'iter': <function iter>,\n",
              "  'len': <function len>,\n",
              "  'license': Type license() to see the full license text,\n",
              "  'list': list,\n",
              "  'locals': <function locals>,\n",
              "  'map': map,\n",
              "  'max': <function max>,\n",
              "  'memoryview': memoryview,\n",
              "  'min': <function min>,\n",
              "  'next': <function next>,\n",
              "  'object': object,\n",
              "  'oct': <function oct>,\n",
              "  'open': <function io.open>,\n",
              "  'ord': <function ord>,\n",
              "  'pow': <function pow>,\n",
              "  'print': <function print>,\n",
              "  'property': property,\n",
              "  'range': range,\n",
              "  'repr': <function repr>,\n",
              "  'reversed': reversed,\n",
              "  'round': <function round>,\n",
              "  'runfile': <function _pydev_bundle.pydev_umd.runfile>,\n",
              "  'set': set,\n",
              "  'setattr': <function setattr>,\n",
              "  'slice': slice,\n",
              "  'sorted': <function sorted>,\n",
              "  'staticmethod': staticmethod,\n",
              "  'str': str,\n",
              "  'sum': <function sum>,\n",
              "  'super': super,\n",
              "  'tuple': tuple,\n",
              "  'type': type,\n",
              "  'vars': <function vars>,\n",
              "  'zip': zip},\n",
              " '__cached__': '/usr/local/lib/python3.7/dist-packages/keras/api/_v2/keras/datasets/fashion_mnist/__pycache__/__init__.cpython-37.pyc',\n",
              " '__doc__': 'Public API for tf.keras.datasets.fashion_mnist namespace.\\n',\n",
              " '__file__': '/usr/local/lib/python3.7/dist-packages/keras/api/_v2/keras/datasets/fashion_mnist/__init__.py',\n",
              " '__loader__': <_frozen_importlib_external.SourceFileLoader at 0x7ff08cc99250>,\n",
              " '__name__': 'keras.api._v2.keras.datasets.fashion_mnist',\n",
              " '__package__': 'keras.api._v2.keras.datasets.fashion_mnist',\n",
              " '__path__': ['/usr/local/lib/python3.7/dist-packages/keras/api/_v2/keras/datasets/fashion_mnist'],\n",
              " '__spec__': ModuleSpec(name='keras.api._v2.keras.datasets.fashion_mnist', loader=<_frozen_importlib_external.SourceFileLoader object at 0x7ff08cc99250>, origin='/usr/local/lib/python3.7/dist-packages/keras/api/_v2/keras/datasets/fashion_mnist/__init__.py', submodule_search_locations=['/usr/local/lib/python3.7/dist-packages/keras/api/_v2/keras/datasets/fashion_mnist']),\n",
              " '_sys': <module 'sys' (built-in)>,\n",
              " 'load_data': <function keras.datasets.fashion_mnist.load_data>}"
            ]
          },
          "metadata": {},
          "execution_count": 60
        }
      ]
    },
    {
      "cell_type": "code",
      "source": [
        "alldata = data.load_data()"
      ],
      "metadata": {
        "id": "DicWrnzyXT93"
      },
      "execution_count": 61,
      "outputs": []
    },
    {
      "cell_type": "code",
      "source": [
        "len(alldata)"
      ],
      "metadata": {
        "colab": {
          "base_uri": "https://localhost:8080/"
        },
        "id": "HipRnbHCXu8J",
        "outputId": "404f5fec-a400-4acb-c6fc-b707c74a7eff"
      },
      "execution_count": 62,
      "outputs": [
        {
          "output_type": "execute_result",
          "data": {
            "text/plain": [
              "2"
            ]
          },
          "metadata": {},
          "execution_count": 62
        }
      ]
    },
    {
      "cell_type": "code",
      "source": [
        "len(alldata[0]), len(alldata[1])"
      ],
      "metadata": {
        "colab": {
          "base_uri": "https://localhost:8080/"
        },
        "id": "clQYO1E6Xx7c",
        "outputId": "c72f777b-37d4-4ed2-e8f3-847b3562a39b"
      },
      "execution_count": 63,
      "outputs": [
        {
          "output_type": "execute_result",
          "data": {
            "text/plain": [
              "(2, 2)"
            ]
          },
          "metadata": {},
          "execution_count": 63
        }
      ]
    },
    {
      "cell_type": "code",
      "source": [
        "len(alldata[0][0])"
      ],
      "metadata": {
        "colab": {
          "base_uri": "https://localhost:8080/"
        },
        "id": "dbGCvGO2X1C0",
        "outputId": "38ed3186-2807-485d-c7a0-ee64c4353ec9"
      },
      "execution_count": 64,
      "outputs": [
        {
          "output_type": "execute_result",
          "data": {
            "text/plain": [
              "60000"
            ]
          },
          "metadata": {},
          "execution_count": 64
        }
      ]
    },
    {
      "cell_type": "code",
      "source": [
        "(a, b), (c,d) = alldata"
      ],
      "metadata": {
        "id": "nHKq1usQX55W"
      },
      "execution_count": 65,
      "outputs": []
    },
    {
      "cell_type": "code",
      "source": [
        "a[0]"
      ],
      "metadata": {
        "colab": {
          "base_uri": "https://localhost:8080/"
        },
        "id": "mSmgSP5NYQ_Y",
        "outputId": "9218dff2-cacb-491a-a352-cf1d4456b6e4"
      },
      "execution_count": 66,
      "outputs": [
        {
          "output_type": "execute_result",
          "data": {
            "text/plain": [
              "array([[  0,   0,   0,   0,   0,   0,   0,   0,   0,   0,   0,   0,   0,\n",
              "          0,   0,   0,   0,   0,   0,   0,   0,   0,   0,   0,   0,   0,\n",
              "          0,   0],\n",
              "       [  0,   0,   0,   0,   0,   0,   0,   0,   0,   0,   0,   0,   0,\n",
              "          0,   0,   0,   0,   0,   0,   0,   0,   0,   0,   0,   0,   0,\n",
              "          0,   0],\n",
              "       [  0,   0,   0,   0,   0,   0,   0,   0,   0,   0,   0,   0,   0,\n",
              "          0,   0,   0,   0,   0,   0,   0,   0,   0,   0,   0,   0,   0,\n",
              "          0,   0],\n",
              "       [  0,   0,   0,   0,   0,   0,   0,   0,   0,   0,   0,   0,   1,\n",
              "          0,   0,  13,  73,   0,   0,   1,   4,   0,   0,   0,   0,   1,\n",
              "          1,   0],\n",
              "       [  0,   0,   0,   0,   0,   0,   0,   0,   0,   0,   0,   0,   3,\n",
              "          0,  36, 136, 127,  62,  54,   0,   0,   0,   1,   3,   4,   0,\n",
              "          0,   3],\n",
              "       [  0,   0,   0,   0,   0,   0,   0,   0,   0,   0,   0,   0,   6,\n",
              "          0, 102, 204, 176, 134, 144, 123,  23,   0,   0,   0,   0,  12,\n",
              "         10,   0],\n",
              "       [  0,   0,   0,   0,   0,   0,   0,   0,   0,   0,   0,   0,   0,\n",
              "          0, 155, 236, 207, 178, 107, 156, 161, 109,  64,  23,  77, 130,\n",
              "         72,  15],\n",
              "       [  0,   0,   0,   0,   0,   0,   0,   0,   0,   0,   0,   1,   0,\n",
              "         69, 207, 223, 218, 216, 216, 163, 127, 121, 122, 146, 141,  88,\n",
              "        172,  66],\n",
              "       [  0,   0,   0,   0,   0,   0,   0,   0,   0,   1,   1,   1,   0,\n",
              "        200, 232, 232, 233, 229, 223, 223, 215, 213, 164, 127, 123, 196,\n",
              "        229,   0],\n",
              "       [  0,   0,   0,   0,   0,   0,   0,   0,   0,   0,   0,   0,   0,\n",
              "        183, 225, 216, 223, 228, 235, 227, 224, 222, 224, 221, 223, 245,\n",
              "        173,   0],\n",
              "       [  0,   0,   0,   0,   0,   0,   0,   0,   0,   0,   0,   0,   0,\n",
              "        193, 228, 218, 213, 198, 180, 212, 210, 211, 213, 223, 220, 243,\n",
              "        202,   0],\n",
              "       [  0,   0,   0,   0,   0,   0,   0,   0,   0,   1,   3,   0,  12,\n",
              "        219, 220, 212, 218, 192, 169, 227, 208, 218, 224, 212, 226, 197,\n",
              "        209,  52],\n",
              "       [  0,   0,   0,   0,   0,   0,   0,   0,   0,   0,   6,   0,  99,\n",
              "        244, 222, 220, 218, 203, 198, 221, 215, 213, 222, 220, 245, 119,\n",
              "        167,  56],\n",
              "       [  0,   0,   0,   0,   0,   0,   0,   0,   0,   4,   0,   0,  55,\n",
              "        236, 228, 230, 228, 240, 232, 213, 218, 223, 234, 217, 217, 209,\n",
              "         92,   0],\n",
              "       [  0,   0,   1,   4,   6,   7,   2,   0,   0,   0,   0,   0, 237,\n",
              "        226, 217, 223, 222, 219, 222, 221, 216, 223, 229, 215, 218, 255,\n",
              "         77,   0],\n",
              "       [  0,   3,   0,   0,   0,   0,   0,   0,   0,  62, 145, 204, 228,\n",
              "        207, 213, 221, 218, 208, 211, 218, 224, 223, 219, 215, 224, 244,\n",
              "        159,   0],\n",
              "       [  0,   0,   0,   0,  18,  44,  82, 107, 189, 228, 220, 222, 217,\n",
              "        226, 200, 205, 211, 230, 224, 234, 176, 188, 250, 248, 233, 238,\n",
              "        215,   0],\n",
              "       [  0,  57, 187, 208, 224, 221, 224, 208, 204, 214, 208, 209, 200,\n",
              "        159, 245, 193, 206, 223, 255, 255, 221, 234, 221, 211, 220, 232,\n",
              "        246,   0],\n",
              "       [  3, 202, 228, 224, 221, 211, 211, 214, 205, 205, 205, 220, 240,\n",
              "         80, 150, 255, 229, 221, 188, 154, 191, 210, 204, 209, 222, 228,\n",
              "        225,   0],\n",
              "       [ 98, 233, 198, 210, 222, 229, 229, 234, 249, 220, 194, 215, 217,\n",
              "        241,  65,  73, 106, 117, 168, 219, 221, 215, 217, 223, 223, 224,\n",
              "        229,  29],\n",
              "       [ 75, 204, 212, 204, 193, 205, 211, 225, 216, 185, 197, 206, 198,\n",
              "        213, 240, 195, 227, 245, 239, 223, 218, 212, 209, 222, 220, 221,\n",
              "        230,  67],\n",
              "       [ 48, 203, 183, 194, 213, 197, 185, 190, 194, 192, 202, 214, 219,\n",
              "        221, 220, 236, 225, 216, 199, 206, 186, 181, 177, 172, 181, 205,\n",
              "        206, 115],\n",
              "       [  0, 122, 219, 193, 179, 171, 183, 196, 204, 210, 213, 207, 211,\n",
              "        210, 200, 196, 194, 191, 195, 191, 198, 192, 176, 156, 167, 177,\n",
              "        210,  92],\n",
              "       [  0,   0,  74, 189, 212, 191, 175, 172, 175, 181, 185, 188, 189,\n",
              "        188, 193, 198, 204, 209, 210, 210, 211, 188, 188, 194, 192, 216,\n",
              "        170,   0],\n",
              "       [  2,   0,   0,   0,  66, 200, 222, 237, 239, 242, 246, 243, 244,\n",
              "        221, 220, 193, 191, 179, 182, 182, 181, 176, 166, 168,  99,  58,\n",
              "          0,   0],\n",
              "       [  0,   0,   0,   0,   0,   0,   0,  40,  61,  44,  72,  41,  35,\n",
              "          0,   0,   0,   0,   0,   0,   0,   0,   0,   0,   0,   0,   0,\n",
              "          0,   0],\n",
              "       [  0,   0,   0,   0,   0,   0,   0,   0,   0,   0,   0,   0,   0,\n",
              "          0,   0,   0,   0,   0,   0,   0,   0,   0,   0,   0,   0,   0,\n",
              "          0,   0],\n",
              "       [  0,   0,   0,   0,   0,   0,   0,   0,   0,   0,   0,   0,   0,\n",
              "          0,   0,   0,   0,   0,   0,   0,   0,   0,   0,   0,   0,   0,\n",
              "          0,   0]], dtype=uint8)"
            ]
          },
          "metadata": {},
          "execution_count": 66
        }
      ]
    },
    {
      "cell_type": "code",
      "source": [
        "b[0]"
      ],
      "metadata": {
        "colab": {
          "base_uri": "https://localhost:8080/"
        },
        "id": "6g9DhPmhYUqR",
        "outputId": "3fd4a015-9535-48a7-a68f-1738c23178d6"
      },
      "execution_count": 67,
      "outputs": [
        {
          "output_type": "execute_result",
          "data": {
            "text/plain": [
              "9"
            ]
          },
          "metadata": {},
          "execution_count": 67
        }
      ]
    },
    {
      "cell_type": "code",
      "source": [
        "c[0]"
      ],
      "metadata": {
        "colab": {
          "base_uri": "https://localhost:8080/"
        },
        "id": "EFpEb_lYYZtk",
        "outputId": "75734e38-20d2-4569-b1a8-59a0965ec9e3"
      },
      "execution_count": 68,
      "outputs": [
        {
          "output_type": "execute_result",
          "data": {
            "text/plain": [
              "array([[  0,   0,   0,   0,   0,   0,   0,   0,   0,   0,   0,   0,   0,\n",
              "          0,   0,   0,   0,   0,   0,   0,   0,   0,   0,   0,   0,   0,\n",
              "          0,   0],\n",
              "       [  0,   0,   0,   0,   0,   0,   0,   0,   0,   0,   0,   0,   0,\n",
              "          0,   0,   0,   0,   0,   0,   0,   0,   0,   0,   0,   0,   0,\n",
              "          0,   0],\n",
              "       [  0,   0,   0,   0,   0,   0,   0,   0,   0,   0,   0,   0,   0,\n",
              "          0,   0,   0,   0,   0,   0,   0,   0,   0,   0,   0,   0,   0,\n",
              "          0,   0],\n",
              "       [  0,   0,   0,   0,   0,   0,   0,   0,   0,   0,   0,   0,   0,\n",
              "          0,   0,   0,   0,   0,   0,   0,   0,   0,   0,   0,   0,   0,\n",
              "          0,   0],\n",
              "       [  0,   0,   0,   0,   0,   0,   0,   0,   0,   0,   0,   0,   0,\n",
              "          0,   0,   0,   0,   0,   0,   0,   0,   0,   0,   0,   0,   0,\n",
              "          0,   0],\n",
              "       [  0,   0,   0,   0,   0,   0,   0,   0,   0,   0,   0,   0,   0,\n",
              "          0,   0,   0,   0,   0,   0,   0,   0,   0,   0,   0,   0,   0,\n",
              "          0,   0],\n",
              "       [  0,   0,   0,   0,   0,   0,   0,   0,   0,   0,   0,   0,   0,\n",
              "          0,   0,   0,   0,   0,   0,   0,   0,   0,   0,   0,   0,   0,\n",
              "          0,   0],\n",
              "       [  0,   0,   0,   0,   0,   0,   0,   0,   0,   0,   0,   0,   0,\n",
              "          0,   0,   0,   0,   0,   0,   3,   1,   0,   0,   7,   0,  37,\n",
              "          0,   0],\n",
              "       [  0,   0,   0,   0,   0,   0,   0,   0,   0,   0,   0,   0,   0,\n",
              "          1,   2,   0,  27,  84,  11,   0,   0,   0,   0,   0,   0, 119,\n",
              "          0,   0],\n",
              "       [  0,   0,   0,   0,   0,   0,   0,   0,   0,   0,   0,   0,   0,\n",
              "          1,   0,   0,  88, 143, 110,   0,   0,   0,   0,  22,  93, 106,\n",
              "          0,   0],\n",
              "       [  0,   0,   0,   0,   0,   0,   0,   0,   0,   0,   0,   0,   0,\n",
              "          4,   0,  53, 129, 120, 147, 175, 157, 166, 135, 154, 168, 140,\n",
              "          0,   0],\n",
              "       [  0,   0,   0,   0,   0,   0,   0,   0,   0,   0,   0,   0,   2,\n",
              "          0,  11, 137, 130, 128, 160, 176, 159, 167, 178, 149, 151, 144,\n",
              "          0,   0],\n",
              "       [  0,   0,   0,   0,   0,   0,   1,   0,   2,   1,   0,   3,   0,\n",
              "          0, 115, 114, 106, 137, 168, 153, 156, 165, 167, 143, 157, 158,\n",
              "         11,   0],\n",
              "       [  0,   0,   0,   0,   1,   0,   0,   0,   0,   0,   3,   0,   0,\n",
              "         89, 139,  90,  94, 153, 149, 131, 151, 169, 172, 143, 159, 169,\n",
              "         48,   0],\n",
              "       [  0,   0,   0,   0,   0,   0,   2,   4,   1,   0,   0,   0,  98,\n",
              "        136, 110, 109, 110, 162, 135, 144, 149, 159, 167, 144, 158, 169,\n",
              "        119,   0],\n",
              "       [  0,   0,   2,   2,   1,   2,   0,   0,   0,   0,  26, 108, 117,\n",
              "         99, 111, 117, 136, 156, 134, 154, 154, 156, 160, 141, 147, 156,\n",
              "        178,   0],\n",
              "       [  3,   0,   0,   0,   0,   0,   0,  21,  53,  92, 117, 111, 103,\n",
              "        115, 129, 134, 143, 154, 165, 170, 154, 151, 154, 143, 138, 150,\n",
              "        165,  43],\n",
              "       [  0,   0,  23,  54,  65,  76,  85, 118, 128, 123, 111, 113, 118,\n",
              "        127, 125, 139, 133, 136, 160, 140, 155, 161, 144, 155, 172, 161,\n",
              "        189,  62],\n",
              "       [  0,  68,  94,  90, 111, 114, 111, 114, 115, 127, 135, 136, 143,\n",
              "        126, 127, 151, 154, 143, 148, 125, 162, 162, 144, 138, 153, 162,\n",
              "        196,  58],\n",
              "       [ 70, 169, 129, 104,  98, 100,  94,  97,  98, 102, 108, 106, 119,\n",
              "        120, 129, 149, 156, 167, 190, 190, 196, 198, 198, 187, 197, 189,\n",
              "        184,  36],\n",
              "       [ 16, 126, 171, 188, 188, 184, 171, 153, 135, 120, 126, 127, 146,\n",
              "        185, 195, 209, 208, 255, 209, 177, 245, 252, 251, 251, 247, 220,\n",
              "        206,  49],\n",
              "       [  0,   0,   0,  12,  67, 106, 164, 185, 199, 210, 211, 210, 208,\n",
              "        190, 150,  82,   8,   0,   0,   0, 178, 208, 188, 175, 162, 158,\n",
              "        151,  11],\n",
              "       [  0,   0,   0,   0,   0,   0,   0,   0,   0,   0,   0,   0,   0,\n",
              "          0,   0,   0,   0,   0,   0,   0,   0,   0,   0,   0,   0,   0,\n",
              "          0,   0],\n",
              "       [  0,   0,   0,   0,   0,   0,   0,   0,   0,   0,   0,   0,   0,\n",
              "          0,   0,   0,   0,   0,   0,   0,   0,   0,   0,   0,   0,   0,\n",
              "          0,   0],\n",
              "       [  0,   0,   0,   0,   0,   0,   0,   0,   0,   0,   0,   0,   0,\n",
              "          0,   0,   0,   0,   0,   0,   0,   0,   0,   0,   0,   0,   0,\n",
              "          0,   0],\n",
              "       [  0,   0,   0,   0,   0,   0,   0,   0,   0,   0,   0,   0,   0,\n",
              "          0,   0,   0,   0,   0,   0,   0,   0,   0,   0,   0,   0,   0,\n",
              "          0,   0],\n",
              "       [  0,   0,   0,   0,   0,   0,   0,   0,   0,   0,   0,   0,   0,\n",
              "          0,   0,   0,   0,   0,   0,   0,   0,   0,   0,   0,   0,   0,\n",
              "          0,   0],\n",
              "       [  0,   0,   0,   0,   0,   0,   0,   0,   0,   0,   0,   0,   0,\n",
              "          0,   0,   0,   0,   0,   0,   0,   0,   0,   0,   0,   0,   0,\n",
              "          0,   0]], dtype=uint8)"
            ]
          },
          "metadata": {},
          "execution_count": 68
        }
      ]
    },
    {
      "cell_type": "code",
      "source": [
        "d[0]"
      ],
      "metadata": {
        "colab": {
          "base_uri": "https://localhost:8080/"
        },
        "id": "zgxWfXTiYepv",
        "outputId": "d51ff9a8-1ddf-4a0e-b0b1-12211a8e91a7"
      },
      "execution_count": 69,
      "outputs": [
        {
          "output_type": "execute_result",
          "data": {
            "text/plain": [
              "9"
            ]
          },
          "metadata": {},
          "execution_count": 69
        }
      ]
    },
    {
      "cell_type": "code",
      "source": [
        "(xtrain, ytrain), (xtest, ytest) = datasets.fashion_mnist.load_data()"
      ],
      "metadata": {
        "id": "U3QQCwOYYiYJ"
      },
      "execution_count": 70,
      "outputs": []
    },
    {
      "cell_type": "code",
      "source": [
        "import cv2"
      ],
      "metadata": {
        "id": "LV559Z5GYxyb"
      },
      "execution_count": 71,
      "outputs": []
    },
    {
      "cell_type": "code",
      "source": [
        ""
      ],
      "metadata": {
        "id": "68dxYI_uY-mi"
      },
      "execution_count": 71,
      "outputs": []
    },
    {
      "cell_type": "code",
      "source": [
        "from google.colab.patches import cv2_imshow"
      ],
      "metadata": {
        "id": "_vww9gcVZBIM"
      },
      "execution_count": 72,
      "outputs": []
    },
    {
      "cell_type": "code",
      "source": [
        "from matplotlib import pyplot as plt\n",
        "plt.figure()\n",
        "plt.imshow(xtrain[0], cmap='gray')"
      ],
      "metadata": {
        "colab": {
          "base_uri": "https://localhost:8080/",
          "height": 282
        },
        "id": "rIqx6xQ0a9PN",
        "outputId": "989a713b-3dd5-4582-a036-572c21d172d6"
      },
      "execution_count": 73,
      "outputs": [
        {
          "output_type": "execute_result",
          "data": {
            "text/plain": [
              "<matplotlib.image.AxesImage at 0x7ff07f010690>"
            ]
          },
          "metadata": {},
          "execution_count": 73
        },
        {
          "output_type": "display_data",
          "data": {
            "text/plain": [
              "<Figure size 432x288 with 1 Axes>"
            ],
            "image/png": "[encoded data removed]"
          },
          "metadata": {
            "needs_background": "light"
          }
        }
      ]
    },
    {
      "cell_type": "code",
      "source": [
        "ytrain[0]"
      ],
      "metadata": {
        "colab": {
          "base_uri": "https://localhost:8080/"
        },
        "id": "7kJCE7Cma_PS",
        "outputId": "1e1f7935-21f1-4c13-b480-3225e0ab1082"
      },
      "execution_count": 74,
      "outputs": [
        {
          "output_type": "execute_result",
          "data": {
            "text/plain": [
              "9"
            ]
          },
          "metadata": {},
          "execution_count": 74
        }
      ]
    },
    {
      "cell_type": "code",
      "source": [
        "class_names = ['T-shirt/top', 'Trouser', 'Pullover', 'Dress', 'Coat',\n",
        "               'Sandal', 'Shirt', 'Sneaker', 'Bag', 'Ankle boot']"
      ],
      "metadata": {
        "id": "WyP5RPcKbqTg"
      },
      "execution_count": 75,
      "outputs": []
    },
    {
      "cell_type": "code",
      "source": [
        "class_names[ytrain[0]]"
      ],
      "metadata": {
        "colab": {
          "base_uri": "https://localhost:8080/",
          "height": 35
        },
        "id": "dkjOrhIUcTGi",
        "outputId": "009d7553-d4a6-4d0a-a64e-0abd716e6f17"
      },
      "execution_count": 76,
      "outputs": [
        {
          "output_type": "execute_result",
          "data": {
            "text/plain": [
              "'Ankle boot'"
            ],
            "application/vnd.google.colaboratory.intrinsic+json": {
              "type": "string"
            }
          },
          "metadata": {},
          "execution_count": 76
        }
      ]
    },
    {
      "cell_type": "code",
      "source": [
        "from matplotlib import pyplot as plt\n",
        "print(class_names[ytrain[2041]])\n",
        "plt.figure()\n",
        "plt.imshow(xtrain[2041], cmap='gray')"
      ],
      "metadata": {
        "colab": {
          "base_uri": "https://localhost:8080/",
          "height": 300
        },
        "id": "qcc1X57DcWfW",
        "outputId": "cd8b8da6-591a-4f30-f1d5-61be861a368f"
      },
      "execution_count": 77,
      "outputs": [
        {
          "output_type": "stream",
          "name": "stdout",
          "text": [
            "T-shirt/top\n"
          ]
        },
        {
          "output_type": "execute_result",
          "data": {
            "text/plain": [
              "<matplotlib.image.AxesImage at 0x7ff07eff2ed0>"
            ]
          },
          "metadata": {},
          "execution_count": 77
        },
        {
          "output_type": "display_data",
          "data": {
            "text/plain": [
              "<Figure size 432x288 with 1 Axes>"
            ],
            "image/png": "[encoded data removed]"
          },
          "metadata": {
            "needs_background": "light"
          }
        }
      ]
    },
    {
      "cell_type": "code",
      "source": [
        "from keras.layers import Flatten, Dense"
      ],
      "metadata": {
        "id": "E0mu9wDOcet2"
      },
      "execution_count": 78,
      "outputs": []
    },
    {
      "cell_type": "code",
      "source": [
        "l1 = Flatten()\n",
        "l2 = Dense(256)\n",
        "l3 = Dense(512)\n",
        "l4 = Dense(10)"
      ],
      "metadata": {
        "id": "-47og_MkdvPu"
      },
      "execution_count": 79,
      "outputs": []
    },
    {
      "cell_type": "code",
      "source": [
        "# TRAINING= calculating the values of W and B\n",
        "model = keras.Sequential([l1,l2,l3,l4])"
      ],
      "metadata": {
        "id": "LNz2OHd-d03m"
      },
      "execution_count": 80,
      "outputs": []
    },
    {
      "cell_type": "markdown",
      "source": [
        "\n",
        "              "
      ],
      "metadata": {
        "id": "BGfh5eJ6HUaI"
      }
    },
    {
      "cell_type": "code",
      "source": [
        "model.compile(loss= keras.losses.SparseCategoricalCrossentropy(from_logits=True),\n",
        "              optimizer='adam')"
      ],
      "metadata": {
        "id": "lBx9H8wZfgLB"
      },
      "execution_count": 81,
      "outputs": []
    },
    {
      "cell_type": "code",
      "source": [
        "model.fit(xtrain, ytrain, epochs=20)"
      ],
      "metadata": {
        "colab": {
          "base_uri": "https://localhost:8080/"
        },
        "id": "A6LmELayfifd",
        "outputId": "296e1a80-949d-4179-8ae6-b409060724af"
      },
      "execution_count": 82,
      "outputs": [
        {
          "output_type": "stream",
          "name": "stdout",
          "text": [
            "Epoch 1/20\n",
            "1875/1875 [==============================] - 9s 5ms/step - loss: 19.3732\n",
            "Epoch 2/20\n",
            "1875/1875 [==============================] - 9s 5ms/step - loss: 4.8184\n",
            "Epoch 3/20\n",
            "1875/1875 [==============================] - 9s 5ms/step - loss: 3.4541\n",
            "Epoch 4/20\n",
            "1875/1875 [==============================] - 9s 5ms/step - loss: 2.4916\n",
            "Epoch 5/20\n",
            "1875/1875 [==============================] - 9s 5ms/step - loss: 1.7125\n",
            "Epoch 6/20\n",
            "1875/1875 [==============================] - 9s 5ms/step - loss: 1.7100\n",
            "Epoch 7/20\n",
            "1875/1875 [==============================] - 11s 6ms/step - loss: 0.9291\n",
            "Epoch 8/20\n",
            "1875/1875 [==============================] - 8s 4ms/step - loss: 4.7496\n",
            "Epoch 9/20\n",
            "1875/1875 [==============================] - 10s 5ms/step - loss: 0.6333\n",
            "Epoch 10/20\n",
            "1875/1875 [==============================] - 9s 5ms/step - loss: 4.1937\n",
            "Epoch 11/20\n",
            "1875/1875 [==============================] - 9s 5ms/step - loss: 0.7617\n",
            "Epoch 12/20\n",
            "1875/1875 [==============================] - 9s 5ms/step - loss: 0.7430\n",
            "Epoch 13/20\n",
            "1875/1875 [==============================] - 10s 5ms/step - loss: 3.4410\n",
            "Epoch 14/20\n",
            "1875/1875 [==============================] - 10s 5ms/step - loss: 0.6598\n",
            "Epoch 15/20\n",
            "1875/1875 [==============================] - 10s 5ms/step - loss: 4.7554\n",
            "Epoch 16/20\n",
            "1875/1875 [==============================] - 9s 5ms/step - loss: 0.6787\n",
            "Epoch 17/20\n",
            "1875/1875 [==============================] - 9s 5ms/step - loss: 1.6702\n",
            "Epoch 18/20\n",
            "1875/1875 [==============================] - 9s 5ms/step - loss: 3.6971\n",
            "Epoch 19/20\n",
            "1875/1875 [==============================] - 9s 5ms/step - loss: 0.7204\n",
            "Epoch 20/20\n",
            "1875/1875 [==============================] - 9s 5ms/step - loss: 5.3817\n"
          ]
        },
        {
          "output_type": "execute_result",
          "data": {
            "text/plain": [
              "<keras.callbacks.History at 0x7ff07ef0b8d0>"
            ]
          },
          "metadata": {},
          "execution_count": 82
        }
      ]
    },
    {
      "cell_type": "code",
      "source": [
        "model.summary()"
      ],
      "metadata": {
        "colab": {
          "base_uri": "https://localhost:8080/"
        },
        "id": "5mL8X2k3kxiA",
        "outputId": "e929aa75-5eb8-47ca-c8af-012d9befe992"
      },
      "execution_count": 83,
      "outputs": [
        {
          "output_type": "stream",
          "name": "stdout",
          "text": [
            "Model: \"sequential_1\"\n",
            "_________________________________________________________________\n",
            " Layer (type)                Output Shape              Param #   \n",
            "=================================================================\n",
            " flatten_1 (Flatten)         (32, 784)                 0         \n",
            "                                                                 \n",
            " dense_3 (Dense)             (32, 256)                 200960    \n",
            "                                                                 \n",
            " dense_4 (Dense)             (32, 512)                 131584    \n",
            "                                                                 \n",
            " dense_5 (Dense)             (32, 10)                  5130      \n",
            "                                                                 \n",
            "=================================================================\n",
            "Total params: 337,674\n",
            "Trainable params: 337,674\n",
            "Non-trainable params: 0\n",
            "_________________________________________________________________\n"
          ]
        }
      ]
    },
    {
      "cell_type": "code",
      "source": [
        "p = model.predict(xtest)\n",
        "\n"
      ],
      "metadata": {
        "id": "sknBo5kvmA7j"
      },
      "execution_count": 85,
      "outputs": []
    },
    {
      "cell_type": "code",
      "source": [
        "p[0], class_names[ytest[0]]"
      ],
      "metadata": {
        "colab": {
          "base_uri": "https://localhost:8080/"
        },
        "id": "4oqn07tTJ0DA",
        "outputId": "100433cb-b23d-4959-f70d-5081ade0e194"
      },
      "execution_count": 86,
      "outputs": [
        {
          "output_type": "execute_result",
          "data": {
            "text/plain": [
              "(array([-62.993565, -26.727268, -60.51606 , -25.160433, -58.191788,\n",
              "        100.93402 , -56.959583, 109.850845,  30.34471 , 153.9809  ],\n",
              "       dtype=float32), 'Ankle boot')"
            ]
          },
          "metadata": {},
          "execution_count": 86
        }
      ]
    },
    {
      "cell_type": "code",
      "source": [
        "import numpy as np\n",
        "class_names[np.argmax(p[0])], class_names[ytest[0]]"
      ],
      "metadata": {
        "colab": {
          "base_uri": "https://localhost:8080/"
        },
        "id": "l456M0NPKRiz",
        "outputId": "d08cd394-3b5f-43aa-e3da-f9b3a660cae8"
      },
      "execution_count": 87,
      "outputs": [
        {
          "output_type": "execute_result",
          "data": {
            "text/plain": [
              "('Ankle boot', 'Ankle boot')"
            ]
          },
          "metadata": {},
          "execution_count": 87
        }
      ]
    },
    {
      "cell_type": "code",
      "source": [
        "mistakes = 0\n",
        "for idx, result in enumerate(p):\n",
        "  if(class_names[np.argmax(p[idx])] != class_names[ytest[idx]]):\n",
        "    mistakes += 1\n",
        "\n",
        "mistakes"
      ],
      "metadata": {
        "colab": {
          "base_uri": "https://localhost:8080/"
        },
        "id": "7QJaPMNcKrPl",
        "outputId": "0887c729-5636-4a9c-db57-86956a95ae27"
      },
      "execution_count": 88,
      "outputs": [
        {
          "output_type": "execute_result",
          "data": {
            "text/plain": [
              "2168"
            ]
          },
          "metadata": {},
          "execution_count": 88
        }
      ]
    },
    {
      "cell_type": "code",
      "source": [
        "len(xtest)"
      ],
      "metadata": {
        "colab": {
          "base_uri": "https://localhost:8080/"
        },
        "id": "x-xTF3o2Lv0h",
        "outputId": "e13918e4-b7d7-4fe0-d2b8-07e3ad5f5e05"
      },
      "execution_count": 89,
      "outputs": [
        {
          "output_type": "execute_result",
          "data": {
            "text/plain": [
              "10000"
            ]
          },
          "metadata": {},
          "execution_count": 89
        }
      ]
    },
    {
      "cell_type": "code",
      "source": [
        "l1_2 = Flatten()\n",
        "l2_2 = Dense(256, activation = tf.nn.relu)\n",
        "l3_2 = Dense(512, activation = tf.nn.relu)\n",
        "l4_2 = Dense(10, activation = tf.nn.softmax)\n",
        "m2 = keras.Sequential([l1_2,l2_2,l3_2,l4_2])"
      ],
      "metadata": {
        "id": "HR5P3x9bLyOs"
      },
      "execution_count": 91,
      "outputs": []
    },
    {
      "cell_type": "code",
      "source": [
        "\n",
        "m2.compile(loss= keras.losses.SparseCategoricalCrossentropy(from_logits=False),\n",
        "              optimizer='adam')"
      ],
      "metadata": {
        "id": "QBU9hUT_MMyV"
      },
      "execution_count": 95,
      "outputs": []
    },
    {
      "cell_type": "code",
      "source": [
        "m2.fit(xtrain, ytrain, epochs=20)"
      ],
      "metadata": {
        "colab": {
          "base_uri": "https://localhost:8080/"
        },
        "id": "UM2MoZEAMevy",
        "outputId": "3091329e-55cf-4bb9-a7a3-f793d394cee5"
      },
      "execution_count": 96,
      "outputs": [
        {
          "output_type": "stream",
          "name": "stdout",
          "text": [
            "Epoch 1/20\n",
            "1875/1875 [==============================] - 9s 5ms/step - loss: 3.8310\n",
            "Epoch 2/20\n",
            "1875/1875 [==============================] - 10s 5ms/step - loss: 0.8048\n",
            "Epoch 3/20\n",
            "1875/1875 [==============================] - 9s 5ms/step - loss: 0.8433\n",
            "Epoch 4/20\n",
            "1875/1875 [==============================] - 11s 6ms/step - loss: 0.7293\n",
            "Epoch 5/20\n",
            "1875/1875 [==============================] - 14s 7ms/step - loss: 0.5745\n",
            "Epoch 6/20\n",
            "1875/1875 [==============================] - 12s 6ms/step - loss: 0.5139\n",
            "Epoch 7/20\n",
            "1875/1875 [==============================] - 14s 7ms/step - loss: 0.4647\n",
            "Epoch 8/20\n",
            "1875/1875 [==============================] - 15s 8ms/step - loss: 0.4521\n",
            "Epoch 9/20\n",
            "1875/1875 [==============================] - 12s 6ms/step - loss: 0.4390\n",
            "Epoch 10/20\n",
            "1875/1875 [==============================] - 11s 6ms/step - loss: 0.4299\n",
            "Epoch 11/20\n",
            "1875/1875 [==============================] - 10s 6ms/step - loss: 0.4166\n",
            "Epoch 12/20\n",
            "1875/1875 [==============================] - 10s 6ms/step - loss: 0.4145\n",
            "Epoch 13/20\n",
            "1875/1875 [==============================] - 9s 5ms/step - loss: 0.4046\n",
            "Epoch 14/20\n",
            "1875/1875 [==============================] - 12s 6ms/step - loss: 0.4068\n",
            "Epoch 15/20\n",
            "1875/1875 [==============================] - 10s 5ms/step - loss: 0.3958\n",
            "Epoch 16/20\n",
            "1875/1875 [==============================] - 10s 6ms/step - loss: 0.3997\n",
            "Epoch 17/20\n",
            "1875/1875 [==============================] - 11s 6ms/step - loss: 0.4118\n",
            "Epoch 18/20\n",
            "1875/1875 [==============================] - 10s 5ms/step - loss: 0.3960\n",
            "Epoch 19/20\n",
            "1875/1875 [==============================] - 10s 5ms/step - loss: 0.3860\n",
            "Epoch 20/20\n",
            "1875/1875 [==============================] - 10s 5ms/step - loss: 0.3868\n"
          ]
        },
        {
          "output_type": "execute_result",
          "data": {
            "text/plain": [
              "<keras.callbacks.History at 0x7ff07c7ad590>"
            ]
          },
          "metadata": {},
          "execution_count": 96
        }
      ]
    },
    {
      "cell_type": "code",
      "source": [
        "l13 = Flatten()\n",
        "l23 = Dense(1024)\n",
        "l33 = Dense(2048)\n",
        "l43 = Dense(10)\n",
        "m3 = keras.Sequential([l13,l23,l33,l43])"
      ],
      "metadata": {
        "id": "kIkSmcDOMi8Y"
      },
      "execution_count": 97,
      "outputs": []
    },
    {
      "cell_type": "code",
      "source": [
        "\n",
        "m3.compile(loss= keras.losses.SparseCategoricalCrossentropy(from_logits=True),\n",
        "              optimizer='adam')"
      ],
      "metadata": {
        "id": "OvnglI6fNZgQ"
      },
      "execution_count": 100,
      "outputs": []
    },
    {
      "cell_type": "code",
      "source": [
        "m3.fit(xtrain, ytrain, epochs=20)"
      ],
      "metadata": {
        "colab": {
          "base_uri": "https://localhost:8080/"
        },
        "id": "MQqVbYaiNdVX",
        "outputId": "7da6bcfb-6ebf-4727-c677-1c0f60899c0e"
      },
      "execution_count": null,
      "outputs": [
        {
          "output_type": "stream",
          "name": "stdout",
          "text": [
            "Epoch 1/20\n",
            "1875/1875 [==============================] - 61s 32ms/step - loss: 37.8591\n",
            "Epoch 2/20\n",
            "1875/1875 [==============================] - 60s 32ms/step - loss: 11.9601\n",
            "Epoch 3/20\n",
            "1875/1875 [==============================] - 60s 32ms/step - loss: 44.1577\n",
            "Epoch 4/20\n",
            "1875/1875 [==============================] - 59s 32ms/step - loss: 12.0450\n",
            "Epoch 5/20\n",
            "1875/1875 [==============================] - 60s 32ms/step - loss: 6.9663\n",
            "Epoch 6/20\n",
            "1875/1875 [==============================] - 60s 32ms/step - loss: 51.5713\n",
            "Epoch 7/20\n",
            " 486/1875 [======>.......................] - ETA: 44s - loss: 5.1244"
          ]
        }
      ]
    },
    {
      "cell_type": "code",
      "source": [
        ""
      ],
      "metadata": {
        "id": "xq7qtN-YNpBb"
      },
      "execution_count": null,
      "outputs": []
    }
  ]
}