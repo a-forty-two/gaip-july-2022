{
  "nbformat": 4,
  "nbformat_minor": 0,
  "metadata": {
    "colab": {
      "name": "SentimentAnalysis.ipynb",
      "provenance": [],
      "authorship_tag": "ABX9TyMgKIX2+oJZptdVll61TaYZ",
      "include_colab_link": true
    },
    "kernelspec": {
      "name": "python3",
      "display_name": "Python 3"
    },
    "language_info": {
      "name": "python"
    }
  },
  "cells": [
    {
      "cell_type": "markdown",
      "metadata": {
        "id": "view-in-github",
        "colab_type": "text"
      },
      "source": [
        "<a href=\"https://colab.research.google.com/github/a-forty-two/gaip-july-2022/blob/main/nlp.ipynb\" target=\"_parent\"><img src=\"https://colab.research.google.com/assets/colab-badge.svg\" alt=\"Open In Colab\"/></a>"
      ]
    },
    {
      "cell_type": "code",
      "execution_count": 1,
      "metadata": {
        "id": "nU7AQMLeFO-i"
      },
      "outputs": [],
      "source": [
        "from tensorflow import keras\n",
        "import tensorflow"
      ]
    },
    {
      "cell_type": "code",
      "source": [
        "alldata = keras.datasets.imdb\n",
        "dir(alldata)\n"
      ],
      "metadata": {
        "colab": {
          "base_uri": "https://localhost:8080/"
        },
        "id": "pmCEnvutHDkH",
        "outputId": "1e92dbed-9baa-4762-f846-dd5804c3f0c2"
      },
      "execution_count": 5,
      "outputs": [
        {
          "output_type": "execute_result",
          "data": {
            "text/plain": [
              "['__builtins__',\n",
              " '__cached__',\n",
              " '__doc__',\n",
              " '__file__',\n",
              " '__loader__',\n",
              " '__name__',\n",
              " '__package__',\n",
              " '__path__',\n",
              " '__spec__',\n",
              " '_sys',\n",
              " 'get_word_index',\n",
              " 'load_data']"
            ]
          },
          "metadata": {},
          "execution_count": 5
        }
      ]
    },
    {
      "cell_type": "code",
      "source": [
        "data = alldata.load_data()"
      ],
      "metadata": {
        "colab": {
          "base_uri": "https://localhost:8080/"
        },
        "id": "5aM1hTifHJGn",
        "outputId": "fcc2ffc8-36fc-4f9e-bde9-2b1b4a1007cf"
      },
      "execution_count": 6,
      "outputs": [
        {
          "output_type": "stream",
          "name": "stdout",
          "text": [
            "Downloading data from https://storage.googleapis.com/tensorflow/tf-keras-datasets/imdb.npz\n",
            "17465344/17464789 [==============================] - 0s 0us/step\n",
            "17473536/17464789 [==============================] - 0s 0us/step\n"
          ]
        }
      ]
    },
    {
      "cell_type": "code",
      "source": [
        "len(data), len(data[0])"
      ],
      "metadata": {
        "colab": {
          "base_uri": "https://localhost:8080/"
        },
        "id": "K5Mezg9NHe_Z",
        "outputId": "d57f98bb-3cde-4708-d416-5507241f3800"
      },
      "execution_count": 8,
      "outputs": [
        {
          "output_type": "execute_result",
          "data": {
            "text/plain": [
              "(2, 2)"
            ]
          },
          "metadata": {},
          "execution_count": 8
        }
      ]
    },
    {
      "cell_type": "code",
      "source": [
        "len(data[0][0])"
      ],
      "metadata": {
        "colab": {
          "base_uri": "https://localhost:8080/"
        },
        "id": "pG58raOJHg00",
        "outputId": "757f37ef-31e9-4cd5-ba8d-b5d0644f5e71"
      },
      "execution_count": 9,
      "outputs": [
        {
          "output_type": "execute_result",
          "data": {
            "text/plain": [
              "25000"
            ]
          },
          "metadata": {},
          "execution_count": 9
        }
      ]
    },
    {
      "cell_type": "code",
      "source": [
        "print(xtrain[142])"
      ],
      "metadata": {
        "colab": {
          "base_uri": "https://localhost:8080/"
        },
        "id": "RR2F-ofPOb7r",
        "outputId": "7751ca14-2ca0-4d93-ba6f-2c069771b0c6"
      },
      "execution_count": 24,
      "outputs": [
        {
          "output_type": "stream",
          "name": "stdout",
          "text": [
            "[1, 137, 13, 62, 135, 13, 358, 4, 123, 13, 873, 142, 340, 275, 39, 54, 13, 86, 219, 10617, 13, 40, 44, 15149, 13, 873, 8, 169, 142, 367, 4, 411, 7, 17690, 29191, 13, 244, 24, 252, 48, 12, 9, 170, 23, 1627, 21, 13, 28, 8, 135, 13, 81, 40, 4, 123, 5, 137, 13, 92, 12371, 12, 17, 6, 9019, 123, 12, 9, 55, 1220, 5, 13, 81, 40, 4, 1175, 200, 4, 105, 17, 73, 587, 4, 696, 177, 10, 10, 13, 62, 407, 135, 15, 12, 9, 87, 8, 67, 7918, 4409, 145, 23, 4, 268, 88, 13, 66, 447, 90, 11, 543, 232, 13, 69, 82, 110, 4, 255, 37, 299, 38354, 464, 11, 1063, 5, 137, 13, 104, 15, 16, 35, 864, 123, 13, 81, 24, 66, 40, 41, 109, 11, 14, 123, 88, 442, 43, 24, 61, 3647, 7, 3384, 21, 59, 7366, 12, 46, 184, 73]\n"
          ]
        }
      ]
    },
    {
      "cell_type": "code",
      "source": [
        "HP_vocab_size = 10000\n",
        "HP_epochs = 50\n",
        "HP_batch_size = 32\n",
        "HP_maxlen = 256\n",
        "HP_initial_LR = 0.001\n",
        "# when learning is complete, lr = 0!\n",
        "# 0 = 1e-3 + decay_rate * 50\n"
      ],
      "metadata": {
        "id": "ofqsUHRFL4lS"
      },
      "execution_count": 52,
      "outputs": []
    },
    {
      "cell_type": "code",
      "source": [
        "opt = keras.optimizers.Adam(\n",
        "    learning_rate=HP_initial_LR)"
      ],
      "metadata": {
        "id": "wYry7IgkM-uV"
      },
      "execution_count": 21,
      "outputs": []
    },
    {
      "cell_type": "code",
      "source": [
        "(xtrain, ytrain), (xtest, ytest) = keras.datasets.imdb.load_data(\n",
        "    num_words = HP_vocab_size\n",
        ")"
      ],
      "metadata": {
        "id": "GKZP9SkRHpqs"
      },
      "execution_count": 25,
      "outputs": []
    },
    {
      "cell_type": "code",
      "source": [
        "ytrain[0], ytrain[789]"
      ],
      "metadata": {
        "colab": {
          "base_uri": "https://localhost:8080/"
        },
        "id": "jd3MQnC6HzJ5",
        "outputId": "ebbdfb9f-388a-4976-df3a-f306258b97c7"
      },
      "execution_count": 13,
      "outputs": [
        {
          "output_type": "execute_result",
          "data": {
            "text/plain": [
              "(1, 0)"
            ]
          },
          "metadata": {},
          "execution_count": 13
        }
      ]
    },
    {
      "cell_type": "code",
      "source": [
        "print(xtrain[0])"
      ],
      "metadata": {
        "colab": {
          "base_uri": "https://localhost:8080/"
        },
        "id": "EduYXoffH4OM",
        "outputId": "154e6721-daa0-4088-9fa6-06d480d267b3"
      },
      "execution_count": 15,
      "outputs": [
        {
          "output_type": "stream",
          "name": "stdout",
          "text": [
            "[1, 14, 22, 16, 43, 530, 973, 1622, 1385, 65, 458, 4468, 66, 3941, 4, 173, 36, 256, 5, 25, 100, 43, 838, 112, 50, 670, 22665, 9, 35, 480, 284, 5, 150, 4, 172, 112, 167, 21631, 336, 385, 39, 4, 172, 4536, 1111, 17, 546, 38, 13, 447, 4, 192, 50, 16, 6, 147, 2025, 19, 14, 22, 4, 1920, 4613, 469, 4, 22, 71, 87, 12, 16, 43, 530, 38, 76, 15, 13, 1247, 4, 22, 17, 515, 17, 12, 16, 626, 18, 19193, 5, 62, 386, 12, 8, 316, 8, 106, 5, 4, 2223, 5244, 16, 480, 66, 3785, 33, 4, 130, 12, 16, 38, 619, 5, 25, 124, 51, 36, 135, 48, 25, 1415, 33, 6, 22, 12, 215, 28, 77, 52, 5, 14, 407, 16, 82, 10311, 8, 4, 107, 117, 5952, 15, 256, 4, 31050, 7, 3766, 5, 723, 36, 71, 43, 530, 476, 26, 400, 317, 46, 7, 4, 12118, 1029, 13, 104, 88, 4, 381, 15, 297, 98, 32, 2071, 56, 26, 141, 6, 194, 7486, 18, 4, 226, 22, 21, 134, 476, 26, 480, 5, 144, 30, 5535, 18, 51, 36, 28, 224, 92, 25, 104, 4, 226, 65, 16, 38, 1334, 88, 12, 16, 283, 5, 16, 4472, 113, 103, 32, 15, 16, 5345, 19, 178, 32]\n"
          ]
        }
      ]
    },
    {
      "cell_type": "code",
      "source": [
        "vocab = alldata.get_word_index()"
      ],
      "metadata": {
        "colab": {
          "base_uri": "https://localhost:8080/"
        },
        "id": "NNMGpytyIAyd",
        "outputId": "243c3f97-6b8b-4ff9-bab0-667743618563"
      },
      "execution_count": 16,
      "outputs": [
        {
          "output_type": "stream",
          "name": "stdout",
          "text": [
            "Downloading data from https://storage.googleapis.com/tensorflow/tf-keras-datasets/imdb_word_index.json\n",
            "1646592/1641221 [==============================] - 0s 0us/step\n",
            "1654784/1641221 [==============================] - 0s 0us/step\n"
          ]
        }
      ]
    },
    {
      "cell_type": "code",
      "source": [
        "rev_vocab = { v:k for k,v in vocab.items()}"
      ],
      "metadata": {
        "id": "MYf9hSp8IxUa"
      },
      "execution_count": 26,
      "outputs": []
    },
    {
      "cell_type": "code",
      "source": [
        "def decoder(sentence):\n",
        "  words= [ rev_vocab[word]  for word in sentence]\n",
        "  full_sentence = \" \".join(words)\n",
        "  return full_sentence"
      ],
      "metadata": {
        "id": "mD0Ze918IzWx"
      },
      "execution_count": 28,
      "outputs": []
    },
    {
      "cell_type": "code",
      "source": [
        "decoder(xtrain[90])"
      ],
      "metadata": {
        "colab": {
          "base_uri": "https://localhost:8080/",
          "height": 157
        },
        "id": "b15J4cxbQGWm",
        "outputId": "1c995262-45a7-48ad-f8de-8d31b59f4234"
      },
      "execution_count": 29,
      "outputs": [
        {
          "output_type": "execute_result",
          "data": {
            "text/plain": [
              "\"the this enough premiere and better executed ability br and with his her and movie it stick politics i i was one is excellent cut this and only natural with lot br of how truly full this of want f br and pop and off that however of here br realistically and me will her points violent this and of 1 for from me in and of guy to simple or and this seen money pleasures sees hours is exciting and guy to sets shockingly and ability his is displays really me of truly and br and and with is quite touches in of i've been stick politics i i of she's it for of house geniuses for its great does it of complicated down roth cute dies are and are arrived really disaster and rented movie trite of thought group fun to big was can about previous are and to sentiment historical those are for top and with is word bath this of neil whether and to audience and with table and who private and yes br complicated sirk was let musicals was two that with and happen can't ok in out imagination i i they by my complicated other moore is am and place br of problem 1 and movie table and\""
            ],
            "application/vnd.google.colaboratory.intrinsic+json": {
              "type": "string"
            }
          },
          "metadata": {},
          "execution_count": 29
        }
      ]
    },
    {
      "cell_type": "code",
      "source": [
        "decoder(xtrain[2090])"
      ],
      "metadata": {
        "colab": {
          "base_uri": "https://localhost:8080/",
          "height": 157
        },
        "id": "zE9hpaQpQKkQ",
        "outputId": "8023c5fa-37d4-409e-cd28-2764c5c0101b"
      },
      "execution_count": 30,
      "outputs": [
        {
          "output_type": "execute_result",
          "data": {
            "text/plain": [
              "\"the as on it has is time nowhere slack aspects idea like it jon in gadget is during doing and fascinated ways sets in targeted and and that mean floors rent psyche this of white almost to would end movie has movie much movie of guy grew was two and beau story one will is still moves not cartoon of complete heroes day on wrong from away against glorious about floors rent end few him this us nice not bad best also in can about used struggling of their it around straight in why of there's newspaper even focused is got to african close and there of forced michael almost all it of idea are of ways to other of did cut but floors rent and and there is again spend something movie of list work say like cat of mack 80s to thing two is found real gadget theaters as come it hear she unfortunately of you to burt in why it prove union floors rent thing maybe about ways i'm think and faster gimmicks would thing people last is forced gadget attempt people more it is makes hatred jim is timeless to his her screaming fred like and and this documentary in surely be props to 1 just tricks fascinated fred loy and that different just seeing me is very my minutes as you not of see now everything in can that it but floors rent psyche evil his for him so horrible not would there is detract sat version solid to is time and level\""
            ],
            "application/vnd.google.colaboratory.intrinsic+json": {
              "type": "string"
            }
          },
          "metadata": {},
          "execution_count": 30
        }
      ]
    },
    {
      "cell_type": "code",
      "source": [
        "# 0 <PAD>\n",
        "# 1 <START>\n",
        "# 2 <UNKNOWN>\n",
        "# 3 <UNUSED>\n",
        "rev_new_vocab = { }"
      ],
      "metadata": {
        "id": "-nwH3zvrQR_1"
      },
      "execution_count": null,
      "outputs": []
    },
    {
      "cell_type": "code",
      "source": [
        "rev_vocab[1], rev_vocab[0]"
      ],
      "metadata": {
        "colab": {
          "base_uri": "https://localhost:8080/",
          "height": 166
        },
        "id": "4qL_v3VcR3Tu",
        "outputId": "0c0da009-8f60-4c3d-82cf-d0e8f75222cd"
      },
      "execution_count": 35,
      "outputs": [
        {
          "output_type": "error",
          "ename": "KeyError",
          "evalue": "ignored",
          "traceback": [
            "\u001b[0;31m---------------------------------------------------------------------------\u001b[0m",
            "\u001b[0;31mKeyError\u001b[0m                                  Traceback (most recent call last)",
            "\u001b[0;32m<ipython-input-35-2b435417583a>\u001b[0m in \u001b[0;36m<module>\u001b[0;34m()\u001b[0m\n\u001b[0;32m----> 1\u001b[0;31m \u001b[0mrev_vocab\u001b[0m\u001b[0;34m[\u001b[0m\u001b[0;36m1\u001b[0m\u001b[0;34m]\u001b[0m\u001b[0;34m,\u001b[0m \u001b[0mrev_vocab\u001b[0m\u001b[0;34m[\u001b[0m\u001b[0;36m0\u001b[0m\u001b[0;34m]\u001b[0m\u001b[0;34m\u001b[0m\u001b[0;34m\u001b[0m\u001b[0m\n\u001b[0m",
            "\u001b[0;31mKeyError\u001b[0m: 0"
          ]
        }
      ]
    },
    {
      "cell_type": "code",
      "source": [
        "fixed_dict = { k:v+3 for k,v in vocab.items()}\n",
        "rev_fixed_vocab = { v:k for k,v in fixed_dict.items() }"
      ],
      "metadata": {
        "id": "XLw5JUuqR4Ga"
      },
      "execution_count": 38,
      "outputs": []
    },
    {
      "cell_type": "code",
      "source": [
        "rev_fixed_vocab[41]"
      ],
      "metadata": {
        "colab": {
          "base_uri": "https://localhost:8080/",
          "height": 35
        },
        "id": "shcl2UWASsZB",
        "outputId": "799162a6-a13a-49c1-de92-c8315e65d5f9"
      },
      "execution_count": 46,
      "outputs": [
        {
          "output_type": "execute_result",
          "data": {
            "text/plain": [
              "'her'"
            ],
            "application/vnd.google.colaboratory.intrinsic+json": {
              "type": "string"
            }
          },
          "metadata": {},
          "execution_count": 46
        }
      ]
    },
    {
      "cell_type": "code",
      "source": [
        "rev_fixed_vocab[0] = \"<PAD>\"\n",
        "rev_fixed_vocab[1] = \"<START>\"\n",
        "rev_fixed_vocab[2] = \"<UNK>\"\n",
        "rev_fixed_vocab[3] = \"<UNUSED>\""
      ],
      "metadata": {
        "id": "pPM7xKp-TAs4"
      },
      "execution_count": 47,
      "outputs": []
    },
    {
      "cell_type": "code",
      "source": [
        "def decoder(sentence):\n",
        "  words= [ rev_fixed_vocab[word]  for word in sentence]\n",
        "  full_sentence = \" \".join(words)\n",
        "  return full_sentence"
      ],
      "metadata": {
        "id": "VWOdg7CWT0PK"
      },
      "execution_count": 48,
      "outputs": []
    },
    {
      "cell_type": "code",
      "source": [
        "decoder(xtrain[0])"
      ],
      "metadata": {
        "colab": {
          "base_uri": "https://localhost:8080/",
          "height": 157
        },
        "id": "JTq9l5CuT9FI",
        "outputId": "5d789fbb-ecc9-49f4-f760-c19cdcbed7d7"
      },
      "execution_count": 49,
      "outputs": [
        {
          "output_type": "execute_result",
          "data": {
            "text/plain": [
              "\"<START> this film was just brilliant casting location scenery story direction everyone's really suited the part they played and you could just imagine being there robert <UNK> is an amazing actor and now the same being director <UNK> father came from the same scottish island as myself so i loved the fact there was a real connection with this film the witty remarks throughout the film were great it was just brilliant so much that i bought the film as soon as it was released for <UNK> and would recommend it to everyone to watch and the fly fishing was amazing really cried at the end it was so sad and you know what they say if you cry at a film it must have been good and this definitely was also <UNK> to the two little boy's that played the <UNK> of norman and paul they were just brilliant children are often left out of the <UNK> list i think because the stars that play them all grown up are such a big profile for the whole film but these children are amazing and should be praised for what they have done don't you think the whole story was so lovely because it was true and was someone's life after all that was shared with us all\""
            ],
            "application/vnd.google.colaboratory.intrinsic+json": {
              "type": "string"
            }
          },
          "metadata": {},
          "execution_count": 49
        }
      ]
    },
    {
      "cell_type": "code",
      "source": [
        "ytrain[0]"
      ],
      "metadata": {
        "colab": {
          "base_uri": "https://localhost:8080/"
        },
        "id": "UVQMS5nWT-6r",
        "outputId": "e07d3185-cee4-420f-acd3-099acd81ff08"
      },
      "execution_count": 50,
      "outputs": [
        {
          "output_type": "execute_result",
          "data": {
            "text/plain": [
              "1"
            ]
          },
          "metadata": {},
          "execution_count": 50
        }
      ]
    },
    {
      "cell_type": "code",
      "source": [
        "for i in range(10):\n",
        "  print(len(xtrain[i]))"
      ],
      "metadata": {
        "colab": {
          "base_uri": "https://localhost:8080/"
        },
        "id": "8aP_5fN5UEL_",
        "outputId": "0e8d426b-b995-496d-abd8-ad7187395d00"
      },
      "execution_count": 51,
      "outputs": [
        {
          "output_type": "stream",
          "name": "stdout",
          "text": [
            "218\n",
            "189\n",
            "141\n",
            "550\n",
            "147\n",
            "43\n",
            "123\n",
            "562\n",
            "233\n",
            "130\n"
          ]
        }
      ]
    },
    {
      "cell_type": "code",
      "source": [
        "xtrain_padded = \n",
        "keras.preprocessing.sequence.pad_sequences(\n",
        "    xtrain, maxlen = HP_maxlen, \n",
        "    truncating = 'post', padding = 'post'\n",
        ")"
      ],
      "metadata": {
        "id": "SJWo-UfFUa_r"
      },
      "execution_count": 54,
      "outputs": []
    },
    {
      "cell_type": "code",
      "source": [
        "xtrain_padded[3]"
      ],
      "metadata": {
        "colab": {
          "base_uri": "https://localhost:8080/"
        },
        "id": "LnqvEBlBVQhU",
        "outputId": "fb4ae97c-f0b2-4608-a6a5-90ddb1d60b1a"
      },
      "execution_count": 55,
      "outputs": [
        {
          "output_type": "execute_result",
          "data": {
            "text/plain": [
              "array([   1,    4,    2,    2,   33, 2804,    4, 2040,  432,  111,  153,\n",
              "        103,    4, 1494,   13,   70,  131,   67,   11,   61,    2,  744,\n",
              "         35, 3715,  761,   61, 5766,  452, 9214,    4,  985,    7,    2,\n",
              "         59,  166,    4,  105,  216, 1239,   41, 1797,    9,   15,    7,\n",
              "         35,  744, 2413,   31,    8,    4,  687,   23,    4,    2, 7339,\n",
              "          6, 3693,   42,   38,   39,  121,   59,  456,   10,   10,    7,\n",
              "        265,   12,  575,  111,  153,  159,   59,   16, 1447,   21,   25,\n",
              "        586,  482,   39,    4,   96,   59,  716,   12,    4,  172,   65,\n",
              "          9,  579,   11, 6004,    4, 1615,    5,    2,    7, 5168,   17,\n",
              "         13, 7064,   12,   19,    6,  464,   31,  314,   11,    2,    6,\n",
              "        719,  605,   11,    8,  202,   27,  310,    4, 3772, 3501,    8,\n",
              "       2722,   58,   10,   10,  537, 2116,  180,   40,   14,  413,  173,\n",
              "          7,  263,  112,   37,  152,  377,    4,  537,  263,  846,  579,\n",
              "        178,   54,   75,   71,  476,   36,  413,  263, 2504,  182,    5,\n",
              "         17,   75, 2306,  922,   36,  279,  131, 2895,   17, 2867,   42,\n",
              "         17,   35,  921,    2,  192,    5, 1219, 3890,   19,    2,  217,\n",
              "       4122, 1710,  537,    2, 1236,    5,  736,   10,   10,   61,  403,\n",
              "          9,    2,   40,   61, 4494,    5,   27, 4494,  159,   90,  263,\n",
              "       2311, 4319,  309,    8,  178,    5,   82, 4319,    4,   65,   15,\n",
              "       9225,  145,  143, 5122,   12, 7039,  537,  746,  537,  537,   15,\n",
              "       7979,    4,    2,  594,    7, 5168,   94, 9096, 3987,    2,   11,\n",
              "          2,    4,  538,    7, 1795,  246,    2,    9,    2,   11,  635,\n",
              "         14,    9,   51,  408,   12,   94,  318, 1382,   12,   47,    6,\n",
              "       2683,  936,    5], dtype=int32)"
            ]
          },
          "metadata": {},
          "execution_count": 55
        }
      ]
    },
    {
      "cell_type": "code",
      "source": [
        "xtrain_padded[5]"
      ],
      "metadata": {
        "colab": {
          "base_uri": "https://localhost:8080/"
        },
        "id": "lPTilPKfVb8P",
        "outputId": "f5239cea-0bd8-4f7c-85f9-3246f300a6b1"
      },
      "execution_count": 57,
      "outputs": [
        {
          "output_type": "execute_result",
          "data": {
            "text/plain": [
              "array([   1,  778,  128,   74,   12,  630,  163,   15,    4, 1766, 7982,\n",
              "       1051,    2,   32,   85,  156,   45,   40,  148,  139,  121,  664,\n",
              "        665,   10,   10, 1361,  173,    4,  749,    2,   16, 3804,    8,\n",
              "          4,  226,   65,   12,   43,  127,   24,    2,   10,   10,    0,\n",
              "          0,    0,    0,    0,    0,    0,    0,    0,    0,    0,    0,\n",
              "          0,    0,    0,    0,    0,    0,    0,    0,    0,    0,    0,\n",
              "          0,    0,    0,    0,    0,    0,    0,    0,    0,    0,    0,\n",
              "          0,    0,    0,    0,    0,    0,    0,    0,    0,    0,    0,\n",
              "          0,    0,    0,    0,    0,    0,    0,    0,    0,    0,    0,\n",
              "          0,    0,    0,    0,    0,    0,    0,    0,    0,    0,    0,\n",
              "          0,    0,    0,    0,    0,    0,    0,    0,    0,    0,    0,\n",
              "          0,    0,    0,    0,    0,    0,    0,    0,    0,    0,    0,\n",
              "          0,    0,    0,    0,    0,    0,    0,    0,    0,    0,    0,\n",
              "          0,    0,    0,    0,    0,    0,    0,    0,    0,    0,    0,\n",
              "          0,    0,    0,    0,    0,    0,    0,    0,    0,    0,    0,\n",
              "          0,    0,    0,    0,    0,    0,    0,    0,    0,    0,    0,\n",
              "          0,    0,    0,    0,    0,    0,    0,    0,    0,    0,    0,\n",
              "          0,    0,    0,    0,    0,    0,    0,    0,    0,    0,    0,\n",
              "          0,    0,    0,    0,    0,    0,    0,    0,    0,    0,    0,\n",
              "          0,    0,    0,    0,    0,    0,    0,    0,    0,    0,    0,\n",
              "          0,    0,    0,    0,    0,    0,    0,    0,    0,    0,    0,\n",
              "          0,    0,    0,    0,    0,    0,    0,    0,    0,    0,    0,\n",
              "          0,    0,    0,    0,    0,    0,    0,    0,    0,    0,    0,\n",
              "          0,    0,    0], dtype=int32)"
            ]
          },
          "metadata": {},
          "execution_count": 57
        }
      ]
    },
    {
      "cell_type": "code",
      "source": [
        "for i in range(10):\n",
        "  print(len(xtrain_padded[i]), end=\" \")"
      ],
      "metadata": {
        "colab": {
          "base_uri": "https://localhost:8080/"
        },
        "id": "T8wsIRUlVm-4",
        "outputId": "98979b4a-860c-4386-d5f7-31d3f31487a8"
      },
      "execution_count": 58,
      "outputs": [
        {
          "output_type": "stream",
          "name": "stdout",
          "text": [
            "256 256 256 256 256 256 256 256 256 256 "
          ]
        }
      ]
    },
    {
      "cell_type": "code",
      "source": [
        ""
      ],
      "metadata": {
        "id": "UxQnzB3LVwIr"
      },
      "execution_count": null,
      "outputs": []
    }
  ]
}